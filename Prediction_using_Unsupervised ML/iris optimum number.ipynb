{
 "cells": [
  {
   "cell_type": "markdown",
   "source": [
    " \r\n",
    "## **Task 2  - K-Means Clustering - Unsupervised Machine Learning**\r\n",
    "---\r\n",
    "\r\n",
    "* ***Task***: From the given ‘Iris’ dataset, predict the optimum number of\r\n",
    "clusters and represent it visually.\r\n",
    "\r\n",
    "* ***Libraries/Datasets Used***: Scikit Learn, Pandas, Numpy, Iris Dataset\r\n",
    "\r\n",
    "\r\n",
    "* Task completed during Data Science & Analytics Internship @ The Sparks Foundation"
   ],
   "metadata": {}
  },
  {
   "cell_type": "code",
   "execution_count": 1,
   "source": [
    "# inmort libery\r\n",
    "import pandas as pd\r\n",
    "import numpy as np\r\n",
    "import  matplotlib.pyplot as plt\r\n",
    "from sklearn import datasets"
   ],
   "outputs": [],
   "metadata": {}
  },
  {
   "cell_type": "markdown",
   "source": [
    "### Loading the Iris Dataset into the notebook"
   ],
   "metadata": {}
  },
  {
   "cell_type": "code",
   "execution_count": 2,
   "source": [
    "# LOading the iris data set\r\n",
    "iris= datasets.load_iris()\r\n",
    "iris_df= pd.DataFrame(iris.data,columns= iris.feature_names)\r\n",
    "iris_df.head()"
   ],
   "outputs": [
    {
     "output_type": "execute_result",
     "data": {
      "text/html": [
       "<div>\n",
       "<style scoped>\n",
       "    .dataframe tbody tr th:only-of-type {\n",
       "        vertical-align: middle;\n",
       "    }\n",
       "\n",
       "    .dataframe tbody tr th {\n",
       "        vertical-align: top;\n",
       "    }\n",
       "\n",
       "    .dataframe thead th {\n",
       "        text-align: right;\n",
       "    }\n",
       "</style>\n",
       "<table border=\"1\" class=\"dataframe\">\n",
       "  <thead>\n",
       "    <tr style=\"text-align: right;\">\n",
       "      <th></th>\n",
       "      <th>sepal length (cm)</th>\n",
       "      <th>sepal width (cm)</th>\n",
       "      <th>petal length (cm)</th>\n",
       "      <th>petal width (cm)</th>\n",
       "    </tr>\n",
       "  </thead>\n",
       "  <tbody>\n",
       "    <tr>\n",
       "      <th>0</th>\n",
       "      <td>5.1</td>\n",
       "      <td>3.5</td>\n",
       "      <td>1.4</td>\n",
       "      <td>0.2</td>\n",
       "    </tr>\n",
       "    <tr>\n",
       "      <th>1</th>\n",
       "      <td>4.9</td>\n",
       "      <td>3.0</td>\n",
       "      <td>1.4</td>\n",
       "      <td>0.2</td>\n",
       "    </tr>\n",
       "    <tr>\n",
       "      <th>2</th>\n",
       "      <td>4.7</td>\n",
       "      <td>3.2</td>\n",
       "      <td>1.3</td>\n",
       "      <td>0.2</td>\n",
       "    </tr>\n",
       "    <tr>\n",
       "      <th>3</th>\n",
       "      <td>4.6</td>\n",
       "      <td>3.1</td>\n",
       "      <td>1.5</td>\n",
       "      <td>0.2</td>\n",
       "    </tr>\n",
       "    <tr>\n",
       "      <th>4</th>\n",
       "      <td>5.0</td>\n",
       "      <td>3.6</td>\n",
       "      <td>1.4</td>\n",
       "      <td>0.2</td>\n",
       "    </tr>\n",
       "  </tbody>\n",
       "</table>\n",
       "</div>"
      ],
      "text/plain": [
       "   sepal length (cm)  sepal width (cm)  petal length (cm)  petal width (cm)\n",
       "0                5.1               3.5                1.4               0.2\n",
       "1                4.9               3.0                1.4               0.2\n",
       "2                4.7               3.2                1.3               0.2\n",
       "3                4.6               3.1                1.5               0.2\n",
       "4                5.0               3.6                1.4               0.2"
      ]
     },
     "metadata": {},
     "execution_count": 2
    }
   ],
   "metadata": {}
  },
  {
   "cell_type": "markdown",
   "source": [
    "### Finding the optimal number of clusters for K-Means and determining the value of K "
   ],
   "metadata": {}
  },
  {
   "cell_type": "code",
   "execution_count": 3,
   "source": [
    "# Finding the optimum number of clusters for k-means classification\r\n",
    "x=iris_df.iloc[:,[0,1,2,3]].values\r\n",
    "from sklearn.cluster import KMeans\r\n",
    "wcss=[]\r\n",
    "for i in range(1,11):\r\n",
    "    Kmeans =KMeans(n_clusters =i, init ='k-means++',\r\n",
    "            max_iter=300,n_init=10,random_state =0)\r\n",
    "\r\n",
    "    Kmeans.fit(x)\r\n",
    "    wcss.append(Kmeans.inertia_)"
   ],
   "outputs": [],
   "metadata": {}
  },
  {
   "cell_type": "markdown",
   "source": [
    "### Plotting the graph onto a line graph to observe the pattern"
   ],
   "metadata": {}
  },
  {
   "cell_type": "code",
   "execution_count": 4,
   "source": [
    "plt.plot(range(1, 11),wcss)\r\n",
    "plt.title('The elbow Method')\r\n",
    "plt.xlabel('Number of clusters')\r\n",
    "plt.ylabel('wcss')\r\n",
    "plt.show()"
   ],
   "outputs": [
    {
     "output_type": "display_data",
     "data": {
      "image/png": "[encoded data removed]",
      "text/plain": [
       "<Figure size 432x288 with 1 Axes>"
      ]
     },
     "metadata": {
      "needs_background": "light"
     }
    }
   ],
   "metadata": {}
  },
  {
   "cell_type": "markdown",
   "source": [
    "\"The elbow method\" got its name from the elbow pattern forming something like above. The optimal clusters are formed where the elbow occurs. This is when the WCSS(Within Cluster Sum of Squares) doesn't decrease with every iteration significantly.\r\n",
    "\r\n",
    "Here we choose the number of clusters as ** '3**'."
   ],
   "metadata": {}
  },
  {
   "cell_type": "markdown",
   "source": [
    "### Creating K-Means Classifier"
   ],
   "metadata": {}
  },
  {
   "cell_type": "code",
   "execution_count": 5,
   "source": [
    "# Applying kmeans to the dataset \r\n",
    "# Creating the kmeans classifier\r\n",
    "Kmeans =KMeans(n_clusters = 3,init =\"k-means++\",\r\n",
    "            max_iter = 300 , n_init =10, random_state =0)\r\n",
    "y_Kmeans = Kmeans.fit_predict(x) \r\n",
    " "
   ],
   "outputs": [],
   "metadata": {}
  },
  {
   "cell_type": "markdown",
   "source": [
    "### Visualizing the cluster data"
   ],
   "metadata": {}
  },
  {
   "cell_type": "code",
   "execution_count": 6,
   "source": [
    "# Visualising the clusters \r\n",
    "# Preferably on the first two columns\r\n",
    "plt.scatter(x[y_Kmeans ==0,0], x[y_Kmeans ==0,1],\r\n",
    "          s =100,c ='red',label = 'Iris-sectosa')\r\n",
    "plt.scatter(x[y_Kmeans ==1,0],x[y_Kmeans == 1,1],\r\n",
    "          s = 100, c='blue',label ='Iris-Versicolour')\r\n",
    "plt.scatter(x[y_Kmeans==2,0], x[y_Kmeans ==2,1],\r\n",
    "          s = 100, c ='green', label = 'Iris-Virginica')"
   ],
   "outputs": [
    {
     "output_type": "execute_result",
     "data": {
      "text/plain": [
       "<matplotlib.collections.PathCollection at 0x29f0c65a790>"
      ]
     },
     "metadata": {},
     "execution_count": 6
    },
    {
     "output_type": "display_data",
     "data": {
      "image/png": "[encoded data removed]",
      "text/plain": [
       "<Figure size 432x288 with 1 Axes>"
      ]
     },
     "metadata": {
      "needs_background": "light"
     }
    }
   ],
   "metadata": {}
  },
  {
   "cell_type": "code",
   "execution_count": 7,
   "source": [
    "plt.scatter(Kmeans.cluster_centers_[:,0], Kmeans.cluster_centers_[:,1],\r\n",
    " s= 100, c ='yellow',label =\"centroids\")\r\n",
    "plt.legend()"
   ],
   "outputs": [
    {
     "output_type": "execute_result",
     "data": {
      "text/plain": [
       "<matplotlib.legend.Legend at 0x29f0c694820>"
      ]
     },
     "metadata": {},
     "execution_count": 7
    },
    {
     "output_type": "display_data",
     "data": {
      "image/png": "[encoded data removed]",
      "text/plain": [
       "<Figure size 432x288 with 1 Axes>"
      ]
     },
     "metadata": {
      "needs_background": "light"
     }
    }
   ],
   "metadata": {}
  },
  {
   "cell_type": "code",
   "execution_count": 11,
   "source": [
    "## Visualising the clusters \r\n",
    "plt.scatter(x[y_Kmeans == 0, 0], x[y_Kmeans == 0, 1], \r\n",
    "            s = 100, c = 'red', label = 'Iris-setosa')\r\n",
    "plt.scatter(x[y_Kmeans == 1, 0], x[y_Kmeans == 1, 1], \r\n",
    "            s = 100, c = 'blue', label = 'Iris-versicolour')\r\n",
    "plt.scatter(x[y_Kmeans == 2, 0], x[y_Kmeans == 2, 1],\r\n",
    "            s = 100, c = 'green', label = 'Iris-virginica')\r\n",
    "\r\n",
    "# Plotting centroids of the clusters\r\n",
    "plt.scatter(Kmeans.cluster_centers_[:, 0], Kmeans.cluster_centers_[:,1], \r\n",
    "            s = 100, c = 'yellow', label = 'Centroids')\r\n",
    "\r\n",
    "plt.legend()"
   ],
   "outputs": [
    {
     "output_type": "execute_result",
     "data": {
      "text/plain": [
       "<matplotlib.legend.Legend at 0x29f0c88eeb0>"
      ]
     },
     "metadata": {},
     "execution_count": 11
    },
    {
     "output_type": "display_data",
     "data": {
      "image/png": "[encoded data removed]",
      "text/plain": [
       "<Figure size 432x288 with 1 Axes>"
      ]
     },
     "metadata": {
      "needs_background": "light"
     }
    }
   ],
   "metadata": {}
  }
 ],
 "metadata": {
  "orig_nbformat": 4,
  "language_info": {
   "name": "python",
   "version": "3.8.6",
   "mimetype": "text/x-python",
   "codemirror_mode": {
    "name": "ipython",
    "version": 3
   },
   "pygments_lexer": "ipython3",
   "nbconvert_exporter": "python",
   "file_extension": ".py"
  },
  "kernelspec": {
   "name": "python3",
   "display_name": "Python 3.8.6 64-bit"
  },
  "interpreter": {
   "hash": "1b26e93db1e3d8e436a46bf8975b25ead4487ba01d842cb3251c009a77ca1c35"
  }
 },
 "nbformat": 4,
 "nbformat_minor": 2
}