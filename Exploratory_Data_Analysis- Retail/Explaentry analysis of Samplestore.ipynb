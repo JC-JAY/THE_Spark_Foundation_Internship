{
 "cells": [
  {
   "cell_type": "markdown",
   "source": [
    "Task  -2 Data science and Business Analytics "
   ],
   "metadata": {}
  },
  {
   "cell_type": "code",
   "execution_count": null,
   "source": [
    " %matplotlib inline\r\n",
    "import numpy as np\r\n",
    "import pandas as \r\n",
    "import matplotlib.pyplot as plt\r\n",
    "import seaborn as sns\r\n"
   ],
   "outputs": [],
   "metadata": {}
  },
  {
   "cell_type": "code",
   "execution_count": null,
   "source": [
    "df = pd.read_csv(\"SampleSuperstore.csv\")\r\n",
    "df.head()"
   ],
   "outputs": [],
   "metadata": {}
  },
  {
   "cell_type": "code",
   "execution_count": null,
   "source": [
    "df.info()"
   ],
   "outputs": [],
   "metadata": {}
  },
  {
   "cell_type": "code",
   "execution_count": null,
   "source": [
    "df.isnull().sum()"
   ],
   "outputs": [],
   "metadata": {}
  },
  {
   "cell_type": "code",
   "execution_count": null,
   "source": [
    "df.colums"
   ],
   "outputs": [],
   "metadata": {}
  },
  {
   "cell_type": "code",
   "execution_count": null,
   "source": [
    "df.shape"
   ],
   "outputs": [],
   "metadata": {}
  },
  {
   "cell_type": "code",
   "execution_count": null,
   "source": [
    "df.nunique()"
   ],
   "outputs": [],
   "metadata": {}
  },
  {
   "cell_type": "code",
   "execution_count": null,
   "source": [
    "plt.figure(figsize=(8,5))\r\n",
    "sns.kdeplot(df['Sales'],color='red',label='Sales',shade=True,bw=25)\r\n",
    "sns.kdeplot(df['Profit'],color='Blue',label='Profit',shade=True ,bw=25)\r\n",
    "plt.xlim([-100,1000])\r\n",
    "plt.legend()"
   ],
   "outputs": [],
   "metadata": {}
  },
  {
   "cell_type": "code",
   "execution_count": null,
   "source": [
    "sns.pairplot(df,hue='Category')"
   ],
   "outputs": [],
   "metadata": {}
  },
  {
   "cell_type": "code",
   "execution_count": null,
   "source": [
    "sns.pairplot(df,hue=\"Region\")"
   ],
   "outputs": [],
   "metadata": {}
  },
  {
   "cell_type": "code",
   "execution_count": null,
   "source": [
    "sns.pairplot(df,hue='Segment')"
   ],
   "outputs": [],
   "metadata": {}
  },
  {
   "cell_type": "code",
   "execution_count": null,
   "source": [
    "df.corr()"
   ],
   "outputs": [],
   "metadata": {}
  },
  {
   "cell_type": "code",
   "execution_count": null,
   "source": [
    "sns.heatmap(df.corr(),cmap=\"rocket_r\",annot=True)"
   ],
   "outputs": [],
   "metadata": {}
  },
  {
   "cell_type": "code",
   "execution_count": null,
   "source": [
    "fig,axs=plt.subplots(nrows=2,ncols=2,figsize=(10,7));\r\n",
    "\r\n",
    "sns.countplot(df['Category'],ax=axs[0][0])\r\n",
    "sns.countplot(df['Segment'],ax=axs[0][1])\r\n",
    "sns.countplot(df['Ship Mode'],ax=axs[1][0])\r\n",
    "sns.countplot(df['Region'],ax=axs[1][1])\r\n",
    "axs[0][0].set_title('Category',fontsize=20)\r\n",
    "axs[0][1].set_title('Segment',fontsize=20)\r\n",
    "axs[1][0].set_title('ship mode',fontsize=20)\r\n",
    "axs[1][1].set_title('Region',fontsize=20)\r\n",
    "\r\n",
    "plt.tight_layout()\r\n"
   ],
   "outputs": [],
   "metadata": {}
  },
  {
   "cell_type": "code",
   "execution_count": null,
   "source": [
    "plt.figure(figsize=(20,8))\r\n",
    "sns.countplot(df['sub-Category'])\r\n",
    "plt.title('sub-Category',fontsize=20)"
   ],
   "outputs": [],
   "metadata": {}
  },
  {
   "cell_type": "code",
   "execution_count": null,
   "source": [
    "plt.figure(figsize=(18,5))\r\n",
    "sns.countplot(df['State'])\r\n",
    "plt.xticks(rotation=90)\r\n",
    "plt.title('State',fontsize=20)"
   ],
   "outputs": [],
   "metadata": {}
  },
  {
   "cell_type": "code",
   "execution_count": null,
   "source": [
    "plt.figure(figsize=(18,5))\r\n",
    "sns.countplot(df['Quantity'])\r\n",
    "plt.title('Quantity',fontsize=20)"
   ],
   "outputs": [],
   "metadata": {}
  },
  {
   "cell_type": "code",
   "execution_count": null,
   "source": [
    "plt.figure(figsize=(18,5))\r\n",
    "sns.countplot(df['Discount'])\r\n",
    "plt.xticks(rotation=90)\r\n",
    "plt.title('Discount',fountsize=20)"
   ],
   "outputs": [],
   "metadata": {}
  },
  {
   "cell_type": "code",
   "execution_count": null,
   "source": [
    "fig, axs =plt.subplots(ncols=2,nrows=2,figsize =(10,10))\r\n",
    "sns.displot(df['Sales'], color ='red', ax = axs[0][0])\r\n",
    "sns.displot(df['Profit'], color = 'green', ax = axs[0][1])\r\n",
    "sns.displot(df['Quantity'], color = 'orange', ax =axs[1][0])\r\n",
    "sns.displot(df['Discount'], color =\"blue \",ax = axs[1][1])\r\n",
    "axs[0][0].set_title('Sales Distribution', fontsize =20)\r\n",
    "axs[0][1].set_title('Profit Distribution', fountsize =20)\r\n",
    "axs[0][2].set_title('Quantity Distribution', fountsize= 20)\r\n",
    "axs[1][0].set_title('Discount Distribution', fountsize =20)\r\n",
    "plt.show()"
   ],
   "outputs": [],
   "metadata": {}
  },
  {
   "cell_type": "code",
   "execution_count": null,
   "source": [
    "df['country'].value_counts()"
   ],
   "outputs": [],
   "metadata": {}
  },
  {
   "cell_type": "code",
   "execution_count": null,
   "source": [
    "df1 =df['state'].value_counts()\r\n",
    "df1.head(10)"
   ],
   "outputs": [],
   "metadata": {}
  },
  {
   "cell_type": "code",
   "execution_count": null,
   "source": [
    "dk1.plot(kind='bar', figsize=(15,5))\r\n",
    "plt.ylabel('Frequency / number of deals')\r\n",
    "plt.xlabel('States')\r\n",
    "\r\n",
    "plt.title('state wise Dealings', fontsize =20)\r\n",
    "plt.show()"
   ],
   "outputs": [],
   "metadata": {}
  },
  {
   "cell_type": "code",
   "execution_count": null,
   "source": [
    "df['State'].value_counts().mean()"
   ],
   "outputs": [],
   "metadata": {}
  },
  {
   "cell_type": "code",
   "execution_count": null,
   "source": [
    "df2 =df['City'].valu_counts()\r\n",
    "df2=df2.head(50)"
   ],
   "outputs": [],
   "metadata": {}
  },
  {
   "cell_type": "code",
   "execution_count": null,
   "source": [
    "df2.plot(kind ='bar',figsize=(15,5))\r\n",
    "pli.ylabel('Frequency /number of deals')\r\n",
    "plt.xlabel('City')\r\n",
    "\r\n",
    "plt.title('City wise Dealings', fontsize =20)\r\n",
    "plt.show()"
   ],
   "outputs": [],
   "metadata": {}
  },
  {
   "cell_type": "code",
   "execution_count": null,
   "source": [
    "df[\"City\"].value_counts().mean()"
   ],
   "outputs": [],
   "metadata": {}
  },
  {
   "cell_type": "code",
   "execution_count": null,
   "source": [
    "df[\"Segment\"].value_counts()"
   ],
   "outputs": [],
   "metadata": {}
  },
  {
   "cell_type": "code",
   "execution_count": null,
   "source": [
    "df_segment = df.groupby(['segment'])[['sales','Discount','profit']].mean()\r\n",
    "df_segment"
   ],
   "outputs": [],
   "metadata": {}
  },
  {
   "cell_type": "code",
   "execution_count": null,
   "source": [
    "df_segment.plot.pie(subplots=True, autopct ='%1.1f%%',figsize=(18,20),\r\n",
    "                            startangle=90,\r\n",
    "                            shadow=True,\r\n",
    "                            labels = df_segment.index)"
   ],
   "outputs": [],
   "metadata": {}
  },
  {
   "cell_type": "code",
   "execution_count": null,
   "source": [
    "df['state'].value_counts().head(10)"
   ],
   "outputs": [],
   "metadata": {}
  },
  {
   "cell_type": "code",
   "execution_count": null,
   "source": [
    "df_state = df.groupby(['Sales'])[['sales','Discount','profit']].mean()\r\n",
    "df_state.head(10)"
   ],
   "outputs": [],
   "metadata": {}
  },
  {
   "cell_type": "code",
   "execution_count": null,
   "source": [
    "df_state1=df_state.sort_values('profit')\r\n",
    "\r\n",
    "df_state1[['profit']].plot(kind = 'bar', figsize =(15, 4))\r\n",
    "plt.title('State wise profit Analysis', fontsize = 20)\r\n",
    "plt.ylabel('profit per sate')\r\n",
    "plt.show()\r\n"
   ],
   "outputs": [],
   "metadata": {}
  },
  {
   "cell_type": "code",
   "execution_count": null,
   "source": [
    "df_state['Sales'].plot(kind='bar',\r\n",
    "                        figsize =(2020),autopct = '%1.1f%%',\r\n",
    "                        startangle=90,\r\n",
    "                        shadow=True)\r\n",
    "plt.title('state wise analysis of sale', fonsize=20)"
   ],
   "outputs": [],
   "metadata": {}
  },
  {
   "cell_type": "code",
   "execution_count": null,
   "source": [
    "df_state1['Discount'].plot(kind='bar',figsize=(18,5))\r\n",
    "plt.title('state wise analysis of Discount',fontsize=20)"
   ],
   "outputs": [],
   "metadata": {}
  },
  {
   "cell_type": "code",
   "execution_count": null,
   "source": [
    "df_city=df.groupby(['City'])[['Sales','discount,profit']].mean()\r\n",
    "df_city = df_city.sort_values('Profit')\r\n",
    "df_city.head()"
   ],
   "outputs": [],
   "metadata": {}
  },
  {
   "cell_type": "code",
   "execution_count": null,
   "source": [
    "df_city['profit'].head(30).plot(kind='bar',figsize=(15,5),color = 'pink')\r\n",
    "plt.title('city wise analysis of sale,discount,profit')"
   ],
   "outputs": [],
   "metadata": {}
  },
  {
   "cell_type": "code",
   "execution_count": null,
   "source": [
    "df_city['profit'].tail(30).plot(kind='bar',figsize=(15,5),color ='pink')\r\n",
    "plt.title('City wise analyssis of sales,Discount, profit')"
   ],
   "outputs": [],
   "metadata": {}
  },
  {
   "cell_type": "code",
   "execution_count": null,
   "source": [
    "df_quantity= df.groupby(['Quantity'])[['sales','Discount','profit']].mean()\r\n",
    "df_quantity.head(10)"
   ],
   "outputs": [],
   "metadata": {}
  },
  {
   "cell_type": "code",
   "execution_count": null,
   "source": [
    "df_quantity.pie(subplots =True,autopct='%1.1f%%',figsize=(20,20),pctdistance=0.69, startangle=90,shadow=True, labels =df_quantity.index)\r\n",
    "plt.title('Quantity wise analysis of sale, Discount, profit')"
   ],
   "outputs": [],
   "metadata": {}
  },
  {
   "cell_type": "code",
   "execution_count": null,
   "source": [
    "df_category =df.groupby(['Category'])[['sales','Discount','profit']].mean()\r\n",
    "df_category"
   ],
   "outputs": [],
   "metadata": {}
  },
  {
   "cell_type": "code",
   "execution_count": null,
   "source": [
    "df_category.plot.pie(subplots=True,\r\n",
    "                    figsize=(18,20),\r\n",
    "                    autopct = '%1.1f%',\r\n",
    "                    labels = df_category.index)"
   ],
   "outputs": [],
   "metadata": {}
  },
  {
   "cell_type": "code",
   "execution_count": null,
   "source": [
    "df_sub_category =df.groupby(['sub-Category'])[['sales', 'Discount','profit']].mean()\r\n",
    "df_sub_category.head(10)"
   ],
   "outputs": [],
   "metadata": {}
  },
  {
   "cell_type": "code",
   "execution_count": null,
   "source": [
    "\r\n",
    "plt.figure(figsize = (15,15))\r\n",
    "plt.pie(df_sub_category['Sales'], labels = df_sub_category.index, autopct = '%1.1f%%')\r\n",
    "plt.title('Sub-Category Wise Sales Analysis', fontsize = 20)\r\n",
    "plt.legend()\r\n",
    "plt.xticks(rotation = 90)\r\n",
    "plt.show()"
   ],
   "outputs": [],
   "metadata": {}
  },
  {
   "cell_type": "code",
   "execution_count": null,
   "source": [
    "plt.figure(figsize = (15,15))\r\n",
    "plt.pie(df_sub_category['Discount'], labels = df_sub_category.index, autopct = '%1.1f%%')\r\n",
    "plt.title('Sub-Category Wise Discount Analysis', fontsize = 20)\r\n",
    "plt.legend()\r\n",
    "plt.xticks(rotation = 90)\r\n",
    "plt.show()"
   ],
   "outputs": [],
   "metadata": {}
  },
  {
   "cell_type": "code",
   "execution_count": null,
   "source": [
    "df_sub_category.sort_values('Profit')[['Sales','Profit']].plot(kind='bar',\r\n",
    "                                                              figsize= (10,5),\r\n",
    "                                                             label=['Avg Sales Price($)','Profit($)'])"
   ],
   "outputs": [],
   "metadata": {}
  },
  {
   "cell_type": "code",
   "execution_count": null,
   "source": [
    "df_region = df.groupby(['Region'])[['Sales', 'Discount', 'Profit']].mean()\r\n",
    "df_region\r\n"
   ],
   "outputs": [],
   "metadata": {}
  },
  {
   "cell_type": "code",
   "execution_count": null,
   "source": [
    "df_region.plot.pie(subplots=True, \r\n",
    "                   figsize=(18, 20), \r\n",
    "                   autopct='%1.1f%%',\r\n",
    "                   labels = df_region.index)"
   ],
   "outputs": [],
   "metadata": {}
  },
  {
   "cell_type": "code",
   "execution_count": null,
   "source": [
    "df['Ship Mode'].value_counts()"
   ],
   "outputs": [],
   "metadata": {}
  },
  {
   "cell_type": "code",
   "execution_count": null,
   "source": [
    "df_shipmode = df.groupby(['Ship Mode'])[['Sales', 'Discount', 'Profit']].mean()"
   ],
   "outputs": [],
   "metadata": {}
  },
  {
   "cell_type": "code",
   "execution_count": null,
   "source": [
    "\r\n",
    "df_shipmode.plot.pie(subplots=True,\r\n",
    "                     figsize=(18, 20), \r\n",
    "                     autopct='%1.1f%%', \r\n",
    "                     labels = df_shipmode.index)"
   ],
   "outputs": [],
   "metadata": {}
  },
  {
   "cell_type": "markdown",
   "source": [
    "- Profit and Discount is high in First Class\r\n",
    "- Sales is high for Same day ship"
   ],
   "metadata": {}
  },
  {
   "cell_type": "markdown",
   "source": [
    "- Profit is more than that of sale but there are some areas where profit could be increased.\r\n",
    "\r\n",
    "- Profit and Discount is high in First Class\r\n",
    "\r\n",
    "- Sales is high for Same day ship\r\n",
    "\r\n",
    "- Sub-category: Copier: High Profit & sales\r\n",
    "\r\n",
    "- Sub-category: Binders , Machines and then tables have high Discount.\r\n",
    "\r\n",
    "- Category: Maximun sales and Profit obtain in Technology.\r\n",
    "\r\n",
    "- Category: Minimun profit obtain in Furniture\r\n",
    "\r\n",
    "- State: Vermont: Highest Profit\r\n",
    "\r\n",
    "- State: Ohio: Lowest Profit\r\n",
    "\r\n",
    "- Segment: Home-office: High Profit & sales\r\n",
    "\r\n",
    "- Here is top 3 city where deals are Highest.\r\n",
    "\r\n",
    "    1. New York City\r\n",
    "\r\n",
    "    2. Los Angeles\r\n",
    "\r\n",
    "    3. Philadelphia\r\n",
    "\r\n",
    "- Sales and Profit are Moderately Correlated.\r\n",
    "\r\n",
    "- Quantity and Profit are less Moderately Correlated.\r\n",
    "\r\n",
    "- Discount and Profit are Negatively Correlated\r\n",
    "\r\n",
    "- Here is top 3 state where deals are Highest.\r\n",
    "\r\n",
    "    1. Califonia\r\n",
    "\r\n",
    "    2. New York\r\n",
    "\r\n",
    "    3. Texas\r\n",
    "\r\n",
    "- **Wyoming** : Lowest Number of deal,Highest amount of sales= Wyoming(11.8%)\r\n",
    "\r\n",
    "- Lowest amount of sales= **South Dakota(0.8%)**\r\n"
   ],
   "metadata": {}
  }
 ],
 "metadata": {
  "orig_nbformat": 4,
  "language_info": {
   "name": "python",
   "version": "3.8.6"
  },
  "kernelspec": {
   "name": "python3",
   "display_name": "Python 3.8.6 64-bit"
  },
  "interpreter": {
   "hash": "1b26e93db1e3d8e436a46bf8975b25ead4487ba01d842cb3251c009a77ca1c35"
  }
 },
 "nbformat": 4,
 "nbformat_minor": 2
}